{
 "cells": [
  {
   "cell_type": "markdown",
   "id": "55e6c312",
   "metadata": {},
   "source": [
    "# Notes On Reverse Engineering NKU Course Selection System"
   ]
  },
  {
   "cell_type": "markdown",
   "id": "bcbeb021",
   "metadata": {},
   "source": [
    "These are runnable notes that explain the backend mechanism of the EAMIS system. Due to security reasons, I could not leave actual output during my dev process. You could enter your eamis credentials and run the entire notebook to see actual results."
   ]
  },
  {
   "cell_type": "code",
   "execution_count": null,
   "id": "616418e7",
   "metadata": {},
   "outputs": [],
   "source": [
    "account = \"youraccount\" # for example 2911311 \n",
    "password = \"yourpassword\" # this will only be used for login"
   ]
  },
  {
   "cell_type": "markdown",
   "id": "75d803f5",
   "metadata": {},
   "source": [
    "## Prerequisites"
   ]
  },
  {
   "cell_type": "markdown",
   "id": "590fe80e",
   "metadata": {},
   "source": [
    "This was originally implemented with `selenium` with minimal knowledge of the system. The code was later refactored to use `httpx` and `BeautifulSoup` for better performance and reliability."
   ]
  },
  {
   "cell_type": "code",
   "execution_count": null,
   "id": "f5274962",
   "metadata": {},
   "outputs": [],
   "source": [
    "import datetime\n",
    "import hashlib\n",
    "import json\n",
    "import re\n",
    "import time\n",
    "from pprint import pprint\n",
    "\n",
    "import hjson\n",
    "import httpx\n",
    "from bs4 import BeautifulSoup\n",
    "from Crypto.Cipher import AES\n",
    "from Crypto.Util.Padding import pad"
   ]
  },
  {
   "cell_type": "code",
   "execution_count": null,
   "id": "f2f98bfc",
   "metadata": {},
   "outputs": [],
   "source": [
    "headers = {\n",
    "    \"User-Agent\": \"Mozilla/5.0 (Macintosh; Intel Mac OS X 10_15_7) AppleWebKit/537.36 (KHTML, like Gecko) Chrome/120.0.0.0 Safari/537.36\",\n",
    "    \"Accept\": \"text/html,application/xhtml+xml,application/xml;q=0.9,image/avif,image/webp,image/apng,*/*;q=0.8,application/signed-exchange;v=b3;q=0.7\",\n",
    "    \"Accept-Language\": \"en-US,en;q=0.9,zh-CN;q=0.8,zh;q=0.7\",\n",
    "    \"Accept-Encoding\": \"gzip, deflate, br\",\n",
    "    \"DNT\": \"1\",\n",
    "    \"Connection\": \"keep-alive\",\n",
    "    \"Upgrade-Insecure-Requests\": \"1\",\n",
    "    \"Sec-Fetch-Dest\": \"document\",\n",
    "    \"Sec-Fetch-Mode\": \"navigate\",\n",
    "    \"Sec-Fetch-Site\": \"none\",\n",
    "    \"Sec-Fetch-User\": \"?1\",\n",
    "    \"Cache-Control\": \"max-age=0\",\n",
    "    \"Sec-Ch-Ua\": '\"Not_A Brand\";v=\"8\", \"Chromium\";v=\"120\", \"Google Chrome\";v=\"120\"',\n",
    "    \"Sec-Ch-Ua-Mobile\": \"?0\",\n",
    "    \"Sec-Ch-Ua-Platform\": '\"macOS\"',\n",
    "}\n",
    "client = httpx.Client()\n",
    "client.headers.update(headers)\n",
    "\n",
    "\n",
    "def print_request_info(response: httpx.Response):\n",
    "    soup = BeautifulSoup(response.content, \"lxml\")\n",
    "    print(\"----------------------------\")\n",
    "    print(\"URL:\", response.url)\n",
    "    print(\"Status Code:\", response.status_code)\n",
    "    print(\"Headers:\")\n",
    "    pprint(dict(response.headers))\n",
    "    print(\"Cookies:\")\n",
    "    pprint(dict(client.cookies))\n",
    "    print(\"Content:\", soup.prettify(), \"\\n\")\n",
    "\n",
    "\n",
    "def create_timestamp():\n",
    "    now = datetime.datetime.now()\n",
    "    timestamp = int(now.timestamp() * 1000)\n",
    "    return timestamp\n",
    "\n",
    "\n",
    "eamis_main = httpx.URL(\"https://eamis.nankai.edu.cn\")\n",
    "login_main = httpx.URL(\"https://iam.nankai.edu.cn\")"
   ]
  },
  {
   "cell_type": "markdown",
   "id": "a876b646",
   "metadata": {},
   "source": [
    "## Login"
   ]
  },
  {
   "cell_type": "markdown",
   "id": "8289c0f2",
   "metadata": {},
   "source": [
    "Upon entering `https://eamis.nankai.edu.cn`, website first redirects to `https://eamis.nankai.edu.cn/eams/login.action`. This is HTTP redirection and will not be captured by `httpx` module.\n",
    "\n",
    "The cookie expires after 12 hours. However in real usage the time is much shorter."
   ]
  },
  {
   "cell_type": "code",
   "execution_count": null,
   "id": "75d2eec2",
   "metadata": {},
   "outputs": [],
   "source": [
    "prelogin_response = httpx.get(eamis_main, follow_redirects=False)\n",
    "# raises CollectionTimeout when not in the same network\n",
    "print_request_info(prelogin_response)"
   ]
  },
  {
   "cell_type": "markdown",
   "id": "8f1f543d",
   "metadata": {},
   "source": [
    "Then the website redirect 4 times in total to reach the final login page\n",
    "\n",
    "1. Where does crsf token come from?\n",
    "\n",
    "    `crsf` cookie is set by server upon entering page `https://eamis.nankai.edu.cn/eams/homeExt.action`. It is a security token to prevent CSRF attacks. The token is stored in a cookie named `JSESSIONID` and is used in subsequent requests to validate the session.\n",
    "2. Does `request` contain the correct headers and cookies after redirection?\n",
    "   \n",
    "   Cookies, yes. But headers are not set correctly because on browsers they are set by js functions.\n",
    "\n",
    "During the redirection, I believe the server uses JSESSION to store the original session destination. "
   ]
  },
  {
   "cell_type": "code",
   "execution_count": null,
   "id": "c9c68490",
   "metadata": {},
   "outputs": [],
   "source": [
    "prelogin_redirection = client.get(\n",
    "    eamis_main.join(\"/eams/homeExt.action\"),\n",
    "    headers=headers,\n",
    "    follow_redirects=True,\n",
    ")\n",
    "for history_response in prelogin_redirection.history:\n",
    "    print_request_info(history_response)\n",
    "print_request_info(prelogin_redirection)"
   ]
  },
  {
   "cell_type": "markdown",
   "id": "2ba26107",
   "metadata": {},
   "source": [
    "Here is the **key api for login**: `\"https://iam.nankai.edu.cn/api/v1/login?os=web\"`"
   ]
  },
  {
   "cell_type": "markdown",
   "id": "51f75165",
   "metadata": {},
   "source": [
    "Whar's interesting is that there exists a field named `feilian`. Does that mean all requests are sent to VPN then redirect to server?"
   ]
  },
  {
   "cell_type": "code",
   "execution_count": null,
   "id": "458accf5",
   "metadata": {},
   "outputs": [],
   "source": [
    "login_response = client.post(\n",
    "    \"https://iam.nankai.edu.cn/api/v1/login?os=web\",\n",
    "    headers={\n",
    "        # Actually with experiment, only `content-type`, `csrf-token` and `referrer` are needed\n",
    "        \"accept\": \"*/*\",\n",
    "        \"accept-language\": \"zh-CN\",\n",
    "        \"cache-control\": \"no-cache\",\n",
    "        \"content-type\": \"application/json\",\n",
    "        \"csrf-token\": client.cookies.get(\"csrf-token\", \"\"),  # type: ignore\n",
    "        \"pragma\": \"no-cache\",\n",
    "        \"sec-fetch-dest\": \"empty\",\n",
    "        \"sec-fetch-mode\": \"cors\",\n",
    "        \"sec-fetch-site\": \"same-origin\",\n",
    "        \"x-fe-version\": \"3.0.9.8465\",\n",
    "        \"x-version-check\": \"0\",\n",
    "        \"referer\": str(prelogin_redirection.url),\n",
    "    },\n",
    "    json={\n",
    "        \"login_scene\": \"feilian\",\n",
    "        \"account_type\": \"userid\",\n",
    "        \"account\": account,\n",
    "        \"password\": encrypt_password(password),\n",
    "    },\n",
    "    follow_redirects=True,\n",
    ")"
   ]
  },
  {
   "cell_type": "markdown",
   "id": "c1e1a91c",
   "metadata": {},
   "source": [
    "Possible responses:\n",
    "\n",
    "```\n",
    "{\"code\":10110001,\"action\":\"alert\",\"message\":\"用户名或密码错误，请再次输入，如确认无误可联系管理员排查。(10110001)\"}\n",
    "\n",
    "{\"code\":0,\"action\":\"\",\"message\":\"\",\"data\":{\"result\":\"success\",\"next\":{\"action\":\"GoToLink\",\"can_skip\":false}}}\n",
    "\n",
    "{\"code\":40000,\"action\":\"alert\",\"message\":\"参数错误\"}\n",
    "```"
   ]
  },
  {
   "cell_type": "code",
   "execution_count": null,
   "id": "3454cdff",
   "metadata": {},
   "outputs": [],
   "source": [
    "print_request_info(login_response)"
   ]
  },
  {
   "cell_type": "markdown",
   "id": "6a832bdc",
   "metadata": {},
   "source": [
    "Note:\n",
    "\n",
    "After 3 hours of searching in Rust code, I finally learnt that:\n",
    "+ Rust `reqwest` library automatically handles `Accept-Encoding` header, which content depends on the features enabled during compilation.\n",
    "+ If `Accept-Encoding` is set manually and conflicts with the one set by `reqwest`, encoding error occurs."
   ]
  },
  {
   "cell_type": "markdown",
   "id": "2bab2722",
   "metadata": {},
   "source": [
    "For password encryption, one can navigate to original site and you will eventually track down to `index.js` file which contains the encryption function. The encryption is done using `CryptoJS` library.\n",
    "\n",
    "```javascript\n",
    "function h(e) {\n",
    "    const t = (r = Number.MAX_SAFE_INTEGER.toString(),\n",
    "    o().MD5(r).toString()).toString()\n",
    "        , n = o().SHA1(o().enc.Utf8.parse(t));\n",
    "    var r;\n",
    "    return o().AES.encrypt(e, o().enc.Utf8.parse(t), {\n",
    "        iv: o().enc.Utf8.parse(n.toString(o().enc.Hex)),\n",
    "        mode: o().mode.CBC,\n",
    "        padding: o().pad.Pkcs7\n",
    "    }).ciphertext.toString(o().enc.Hex)\n",
    "}\n",
    "```\n",
    "Which is equivalent to the following Python code:(generated with AI)"
   ]
  },
  {
   "cell_type": "code",
   "execution_count": null,
   "id": "2702899f",
   "metadata": {},
   "outputs": [],
   "source": [
    "def encrypt_password(password):\n",
    "    # Step 1: Generate key (same as JavaScript)\n",
    "    max_safe_int = \"9007199254740991\"\n",
    "    t = hashlib.md5(max_safe_int.encode()).hexdigest()\n",
    "    # Step 2: Generate IV hash (same as JavaScript)\n",
    "    n_hex = hashlib.sha1(t.encode()).hexdigest()\n",
    "    # Step 3: Convert hex string to bytes as UTF-8 (this is the key part!)\n",
    "    # JavaScript: CryptoJS.enc.Utf8.parse(n.toString(CryptoJS.enc.Hex))\n",
    "    iv_bytes = n_hex.encode(\"utf-8\")  # Treat hex string as UTF-8 text\n",
    "    # Step 4: Prepare for AES\n",
    "    key_bytes = t.encode(\"utf-8\")  # MD5 hex string as UTF-8 bytes\n",
    "    iv_for_aes = iv_bytes[:16]  # Take first 16 bytes for AES\n",
    "    cipher = AES.new(key_bytes[:32], AES.MODE_CBC, iv_for_aes)\n",
    "    encrypted = cipher.encrypt(pad(password.encode(\"utf-8\"), 16))\n",
    "\n",
    "    return encrypted.hex()\n",
    "\n",
    "\n",
    "encrypt_password(password)"
   ]
  },
  {
   "cell_type": "markdown",
   "id": "da934e86",
   "metadata": {},
   "source": [
    "If you look close enough, you will find the header `referer` used in login on browser request is not identical to `prelogin_redirection.url` after redirection. \n",
    "```\n",
    "(Request) \"https://iam.nankai.edu.cn/login?next=%2Fapi%2Fcas%2Flogin%3Fservice%3Dhttps%253A%252F%252Feamis.nankai.edu.cn%252Feams%252Flogin.action%253Bjsessionid%253D9A9E5358E24CEC4B2AE07D2480BA4965.std7\"\n",
    "(Browser) \"https://iam.nankai.edu.cn/login?next=%2Fapi%2Fcas%2Flogin%3Fservice%3Dhttps%253A%252F%252Feamis.nankai.edu.cn%252Feams%252Flogin.action\"\n",
    "```\n",
    "\n",
    "This might due to server-side logic, javascript behavior, won't affect the login process, but possibly indication that can be used for server side to track down bot. Here are some strategies to be implemented in prodction:\n",
    "1. Add random delay between requests\n",
    "2. Request intermediate pages to mimic browser behavior\n"
   ]
  },
  {
   "cell_type": "markdown",
   "id": "c29ff6ab",
   "metadata": {},
   "source": [
    "As of is it a good practice? \n",
    "\n",
    "> **Is This Good Practice?**\n",
    "> \n",
    "> Generally, no - but it serves specific purposes:\n",
    "> Legitimate Uses:\n",
    "> \n",
    "> - Build optimization (smaller bundle size)\n",
    "> - Lazy loading (better performance)\n",
    "> - Module compatibility (works in different environments)\n",
    "> \n",
    "> **Questionable Uses:**\n",
    "> \n",
    "> - Security through obscurity (not real security)\n",
    "> - Making code harder to understand (maintenance nightmare)\n",
    "> - Avoiding detection (hiding what crypto library is used)\n"
   ]
  },
  {
   "cell_type": "markdown",
   "id": "570818c8",
   "metadata": {},
   "source": [
    "The login api returns a JSON response with `code` and `action` fields. \n",
    "\n",
    "TODO: find more about api response"
   ]
  },
  {
   "cell_type": "code",
   "execution_count": null,
   "id": "2ab195af",
   "metadata": {},
   "outputs": [],
   "source": [
    "login_status = json.loads(login_response.content)\n",
    "print(\"Login Status:\", login_status)\n",
    "if login_status.get(\"code\") == 0:\n",
    "    print(\"Login successful!\")\n",
    "else:\n",
    "    print(login_status.get(\"message\", \"Login failed for unknown reason.\"))"
   ]
  },
  {
   "cell_type": "code",
   "execution_count": null,
   "id": "b4f5ab9f",
   "metadata": {},
   "outputs": [],
   "source": [
    "postlogin_response = client.get(\n",
    "    login_main.join(login_status[\"data\"][\"next\"][\"link\"]),\n",
    "    follow_redirects=True,\n",
    ")"
   ]
  },
  {
   "cell_type": "markdown",
   "id": "63a998ea",
   "metadata": {},
   "source": [
    "After login, the response directs to certain page, with another 4 redirections, we reached the final page: `https://eamis.nankai.edu.cn/eams/home.action`.\n",
    "\n",
    "Once logged in, the session is stored in `JSESSIONID` cookie, which is used for subsequent requests. And `csrfToken` will be off the chart.\n",
    "\n",
    "One interesting problem is the maximized time allowed between login and action. The cookie expires after 12 hours, but in real usage the time can be found with simple bisecting search. The result is 30 minutes with precision of 2 minutes. This result is confirmed with second tests."
   ]
  },
  {
   "cell_type": "code",
   "execution_count": null,
   "id": "7e526928",
   "metadata": {},
   "outputs": [],
   "source": [
    "print(postlogin_response.history)\n",
    "for history_response in postlogin_response.history:\n",
    "    print_request_info(history_response)\n",
    "print_request_info(postlogin_response)"
   ]
  },
  {
   "cell_type": "markdown",
   "id": "caa28dc5",
   "metadata": {},
   "source": [
    "## Front End"
   ]
  },
  {
   "cell_type": "markdown",
   "id": "7d73eb42",
   "metadata": {},
   "source": [
    "In eamis system, different menus have different ids and api endpoints. \n",
    "For example:\n",
    "- 我的 界面：`https://eamis.nankai.edu.cn/eams/home!submenus.action?menu.id=&_=1749625169269`\n",
    "- 主页面：`https://eamis.nankai.edu.cn/eams/home!welcome.action?_=1749625169270`\n",
    "- 选课界面：`https://eamis.nankai.edu.cn/eams/stdElectCourse.action?_=1749625169272`\n",
    "\n",
    "Here we skip the request of main page and directly request the course selection page. (Might be implemented in future)"
   ]
  },
  {
   "cell_type": "code",
   "execution_count": null,
   "id": "ea1125df",
   "metadata": {},
   "outputs": [],
   "source": [
    "course_select_menu_response = client.get(\n",
    "    \"https://eamis.nankai.edu.cn/eams/stdElectCourse.action\",\n",
    "    headers={\n",
    "        \"Referer\": str(postlogin_response.url),\n",
    "        \"X-Requested-With\": \"XMLHttpRequest\",\n",
    "    },\n",
    "    params={\"_\": \"1749625169272\"},\n",
    "    follow_redirects=True,\n",
    ")\n",
    "print_request_info(course_select_menu_response)"
   ]
  },
  {
   "cell_type": "markdown",
   "id": "43300401",
   "metadata": {},
   "source": [
    "It returns HTML content, which can be parsed with BeautifulSoup to extract *profile* information (Different categories for courses)."
   ]
  },
  {
   "cell_type": "code",
   "execution_count": null,
   "id": "3da6be1b",
   "metadata": {},
   "outputs": [],
   "source": [
    "soup = BeautifulSoup(course_select_menu_response.content, \"lxml\")\n",
    "selection_divs = soup.find_all(\"div\", id=re.compile(r\"^electIndexNotice\\d+$\"))\n",
    "\n",
    "course_categories: list[dict] = []\n",
    "for div in selection_divs:\n",
    "    # Extract title from h3 element\n",
    "    title_element = div.find(\"h3\")  # type: ignore\n",
    "    title = title_element.get_text(strip=True) if title_element else None  # type: ignore\n",
    "\n",
    "    # Extract href from the link\n",
    "    link_element = div.find(\"a\", href=True)  # type: ignore\n",
    "    href = link_element[\"href\"] if link_element else None  # type: ignore\n",
    "\n",
    "    if title and href:\n",
    "        course_categories.append(\n",
    "            {\n",
    "                \"title\": title,\n",
    "                \"href\": href,\n",
    "                \"url\": str(eamis_main.join(href)),  # type: ignore\n",
    "                \"id\": href.split(\"=\")[-1] if \"=\" in href else None,  # type: ignore\n",
    "            }\n",
    "        )\n",
    "\n",
    "# Print results\n",
    "for course_category_example in course_categories:\n",
    "    print(f\"Title: {course_category_example['title']}\")\n",
    "    print(f\"Link: {course_category_example['url']}\")\n",
    "    print(f\"ID: {course_category_example['id']}\")\n",
    "    print(\"-\" * 50)"
   ]
  },
  {
   "cell_type": "markdown",
   "id": "ac6d98d5",
   "metadata": {},
   "source": [
    "Front end is actually more interesting than you might think.\n",
    "\n",
    "First as you can see all APIs require a UNIX timestamp as a parameter, which is used to prevent caching. This is a common practice in web development to ensure that the client always receives the latest data from the server. But actually the actual time value is not important at all. One can even send requests with old timestamp and it will still work. \n",
    "\n",
    "Second, the APIs have `!` and `action` in the URL, which  is not a general web design standard but a specific convention used by the Apache Struts framework. \n",
    "- stdElectCourse: This part of the URL maps to a Java class, often called an Action class (e.g., StdElectCourseAction.java). This class is responsible for handling user requests related to course selection.\n",
    "\n",
    "- .action: This is the default extension that the Struts framework uses to identify requests that it should process.\n",
    "\n",
    "- ! (The \"Bang\" Notation): This is the key part. It's a feature in Struts called \"Dynamic Method Invocation\" (DMI). It allows a single Action class to have multiple methods that can be called directly from a URL."
   ]
  },
  {
   "cell_type": "markdown",
   "id": "55e8c6b8",
   "metadata": {},
   "source": [
    "## Backend"
   ]
  },
  {
   "cell_type": "markdown",
   "id": "668bd1bc",
   "metadata": {},
   "source": [
    "Home Page API for each profile: `https://eamis.nankai.edu.cn/eams/stdElectCourse!defaultPage.action`\n",
    "Added by `?electionProfile.id={profileID}`\n",
    "\n",
    "The rest of api calls shall include this as referer header."
   ]
  },
  {
   "cell_type": "code",
   "execution_count": null,
   "id": "90c0337b",
   "metadata": {},
   "outputs": [],
   "source": [
    "course_category_example = course_categories[0]  # Select the first category for demonstration\n",
    "prelogin_redirection = client.get(\n",
    "    course_category_example[\"url\"],\n",
    "    headers={\n",
    "        \"Referer\": str(course_select_menu_response.url),\n",
    "        \"X-Requested-With\": \"XMLHttpRequest\",\n",
    "    },\n",
    ")\n",
    "print_request_info(prelogin_redirection)"
   ]
  },
  {
   "cell_type": "markdown",
   "id": "2ca72c76",
   "metadata": {},
   "source": [
    "### Internationalization\n",
    "These apis are for i18n support which returns a JSON object with key-value pairs for teacher-id, classroom-id, and course-id. Set the bad practice of returning js values aside, the main api actually returns both id and name in Chinese, rendering the i18n support useless."
   ]
  },
  {
   "cell_type": "code",
   "execution_count": null,
   "id": "5dc624e4",
   "metadata": {},
   "outputs": [],
   "source": [
    "apis = [\n",
    "    \"https://eamis.nankai.edu.cn/eams/stdElectCourse!classroomI18N.action\",\n",
    "    \"https://eamis.nankai.edu.cn/eams/stdElectCourse!courseI18N.action\",\n",
    "    \"https://eamis.nankai.edu.cn/eams/stdElectCourse!teacherI18n.action\",\n",
    "]\n",
    "for api in apis:\n",
    "    a = client.get(\n",
    "        api,\n",
    "        params={\"profileId\": course_category_example[\"id\"], \"lang\": \"zh\"},\n",
    "        headers={\n",
    "            \"Referer\": course_category_example[\"url\"],\n",
    "            \"X-Requested-With\": \"XMLHttpRequest\",\n",
    "        },\n",
    "    )\n",
    "    print_request_info(a)"
   ]
  },
  {
   "cell_type": "markdown",
   "id": "7303b8a6",
   "metadata": {},
   "source": [
    "### Course Info\n",
    "**Key api response for course info**: `https://eamis.nankai.edu.cn/eams/stdElectCourse!data.action`\n",
    "\n",
    "@param `electionProfile.id` : Profile ID\n",
    "\n",
    "@returns JavaScript containing (H)JSON data with course information.(*Although this is bad practice in web design*)"
   ]
  },
  {
   "cell_type": "code",
   "execution_count": null,
   "id": "129bb8fa",
   "metadata": {},
   "outputs": [],
   "source": [
    "course_info = client.get(\n",
    "    \"https://eamis.nankai.edu.cn/eams/stdElectCourse!data.action\",\n",
    "    params={\"profileId\": course_category_example[\"id\"]},\n",
    "    headers={\n",
    "        \"Referer\": course_category_example[\"url\"],\n",
    "        \"X-Requested-With\": \"XMLHttpRequest\",\n",
    "    },\n",
    ")\n",
    "print_request_info(course_info)"
   ]
  },
  {
   "cell_type": "code",
   "execution_count": null,
   "id": "9f75539b",
   "metadata": {},
   "outputs": [],
   "source": [
    "course_info_parsed = BeautifulSoup(course_info.content, \"lxml\")\n",
    "\n",
    "\n",
    "info = (\n",
    "    course_info_parsed.find(\"body\")\n",
    "    .find(\"p\")  # type: ignore\n",
    "    .get_text(strip=True)  # type: ignore\n",
    "    .split(\"=\", 1)[-1]\n",
    "    .strip()\n",
    ")[:-1]\n",
    "hjson.loads(info)\n",
    "# with open(\"course_selection_status.json\", \"w\", encoding=\"utf-8\") as f:\n",
    "#     json.dump(\n",
    "#         hjson.loads(info),\n",
    "#         f,\n",
    "#         ensure_ascii=False,\n",
    "#         indent=4,\n",
    "#     )"
   ]
  },
  {
   "cell_type": "markdown",
   "id": "92cbeb9d",
   "metadata": {},
   "source": [
    "This API returns a **HUGE** js dictionary with course information, but it's actually easy to understand. We will take one for example:"
   ]
  },
  {
   "cell_type": "markdown",
   "id": "2057ac93",
   "metadata": {},
   "source": [
    "```json\n",
    "{\n",
    "    \"id\": 598221, // Course ID, essential for our purpose. Used as parameter in course selection API\n",
    "    \"no\": \"0053\", // Course number, Just for numbering in webview\n",
    "    \"name\": \"智能软件前沿\", // Course name, in Chinese\n",
    "    \"limitCount\": 200, // Total student limit for the course\n",
    "    \"planLimitCount\": 200, // limit for students in certain plan/major\n",
    "    \"unplanLimitCount\": 0, // limit for students not in certain plan/major, actually isn't this simple arithmetic to calculate?\n",
    "    \"code\": \"INTL0028\", // Course code, important for identification\n",
    "    \"credits\": 1, // Course credits, extra information but not essential\n",
    "    \"courseId\": 20507, // i18n for course name (actually I believe `id` field is more than sufficient)\n",
    "    \"startWeek\": 1, // Start week of the course\n",
    "    \"endWeek\": 1, // End week of the course (this is a one-week course happening in summer)\n",
    "    \"courseTypeId\": 401, // i18n for courseTypeName\n",
    "    \"courseTypeName\": \"国际学分课程\", // Course type name\n",
    "    \"courseTypeCode\": \"01_09\", // idon't know ... but seems unimportant\n",
    "    \"scheduled\": true, \n",
    "    \"hasTextBook\": false, // Who cares about textbooks?\n",
    "    \"period\": 18, // Total period of the course, but actually it's not endWeek - Start Week + 1...\n",
    "    \"weekHour\": 0, // it just looks unimportant...\n",
    "    \"withdrawable\": true, // This field I believe indicates if the course can be withdrawn after selection, but aren't all courses withdrawable?\n",
    "    \"langTypeName\": \"中文\", // Language type of the course, not important\n",
    "    \"textbooks\": \"\", // I can't believe there are 2 fields for textbooks...\n",
    "    \"teachers\": \"朱锦潮\", // Teacher name\n",
    "    \"teacherIds\": \"19005\", // i18n for teacher ID\n",
    "    \"campusCode\": \"04\", // I must complain, we only have 2 (actually 3) campuses, but the code is 04 :(\n",
    "    \"campusName\": \"津南校区\", // Campus name\n",
    "    \"midWithdraw\": \"不能期中退课\", // Mid-term withdrawal policy, not important\n",
    "    \"reservedCount\": \"0\", \n",
    "    \"remark\": \"\", // not important\n",
    "}\n",
    "```"
   ]
  },
  {
   "cell_type": "markdown",
   "id": "2f5df54b",
   "metadata": {},
   "source": [
    "```json\n",
    "{\n",
    "    \"arrangeInfo\": [\n",
    "        {\n",
    "            \"weekDay\": 4, // Day of the week\n",
    "            \"weekState\": \"01000000000000000000000000000000000000000000000000000\",\n",
    "            \"startUnit\": 7, // Start unit of the course\n",
    "            \"endUnit\": 10,  // End unit of the course\n",
    "            \"weekStateDigest\": \"1\",\n",
    "            \"startTime\": 1400, // Start time, well that's considerate since it can just be calculated from startUnit and endUnit\n",
    "            \"endTime\": 1740, // Same as above\n",
    "            \"expLessonGroup\": null, // lesson group information\n",
    "            \"expLessonGroupNo\": null, // Same as above\n",
    "            \"roomIds\": \"1205\", // Room IDs, used for i18n\n",
    "            \"rooms\": \"津南公教楼C区122\" // Room name\n",
    "        },\n",
    "    // ...\n",
    "    // Same thing repeating\n",
    "    ],\n",
    "    \"expLessonGroups\": [ // All lesson groups for the course\n",
    "        {\n",
    "            \"id\": 6480, // Lesson group ID, Used for course selection with Groups\n",
    "            \"indexNo\": 1, // Lesson group index number\n",
    "            \"stdCount\": 200,\n",
    "            \"getStdCountLimit\": 200\n",
    "        }\n",
    "    ]\n",
    "}\n",
    "```"
   ]
  },
  {
   "cell_type": "markdown",
   "id": "91dacd51",
   "metadata": {},
   "source": [
    "### Course Selection\n",
    "**Key API for Course Selection**: `https://eamis.nankai.edu.cn/eams/stdElectCourse!batchOperator.action`\n",
    "\n",
    "@param `profileId` : Profile ID\n",
    "\n",
    "@data "
   ]
  },
  {
   "cell_type": "code",
   "execution_count": null,
   "id": "dcff5903",
   "metadata": {},
   "outputs": [],
   "source": [
    "from collections import namedtuple\n",
    "\n",
    "\n",
    "course = namedtuple(\"Course\", [\"id\", \"name\", \"expLessonGroup\"])\n",
    "course_example = course(id=598178, name=\"高级语言编程实训2\", expLessonGroup=6444)"
   ]
  },
  {
   "cell_type": "code",
   "execution_count": null,
   "id": "bb9087e0",
   "metadata": {},
   "outputs": [],
   "source": [
    "try:\n",
    "    course_select_response = client.post(\n",
    "        \"https://eamis.nankai.edu.cn/eams/stdElectCourse!batchOperator.action\",\n",
    "        headers={\n",
    "            \"Referer\": course_category_example[\"url\"],\n",
    "            \"X-Requested-With\": \"XMLHttpRequest\",\n",
    "        },\n",
    "        data={\n",
    "            \"optype\": \"true\",\n",
    "            \"operator0\": f\"{course_example.id}:true:0\",\n",
    "            \"lesson0\": str(course_example.id),\n",
    "            f\"expLessonGroup_{course_example.id}\": str(\n",
    "                course_example.expLessonGroup\n",
    "            ),  # \"undefined\" if no expLessonGroup\n",
    "        },\n",
    "        params={\"profileId\": course_category_example[\"id\"]},\n",
    "    )\n",
    "    print_request_info(course_select_response)\n",
    "except Exception:\n",
    "    pass"
   ]
  },
  {
   "cell_type": "code",
   "execution_count": null,
   "id": "58dbb123",
   "metadata": {},
   "outputs": [],
   "source": [
    "try:\n",
    "    course_returned_response = client.post(\n",
    "        \"https://eamis.nankai.edu.cn/eams/stdElectCourse!batchOperator.action\",\n",
    "        headers={\n",
    "            \"Referer\": course_category_example[\"url\"],\n",
    "            \"X-Requested-With\": \"XMLHttpRequest\",\n",
    "        },\n",
    "        data={\n",
    "            \"optype\": \"false\",\n",
    "            \"operator0\": f\"{course_example.id}:false:0\",\n",
    "            \"lesson0\": str(course_example.id),\n",
    "        },\n",
    "        params={\"profileId\": course_category_example[\"id\"]},\n",
    "    )\n",
    "    print_request_info(course_returned_response)\n",
    "except Exception:\n",
    "    pass"
   ]
  },
  {
   "cell_type": "markdown",
   "id": "356e54a4",
   "metadata": {},
   "source": [
    "```html\n",
    "<body>\n",
    "    <table width=\"100%\" align=\"center\">\n",
    "        <tr style=\"padding-left:20%\">\n",
    "            <td style=\"text-align:center;\">\n",
    "                <div style=\"width:85%;color:red;text-align:left;margin:auto;\">\n",
    "                    操作 失败:当前选课不开放</br>\n",
    "                </div>\n",
    "            </td>\n",
    "            <script type=\"text/javascript\">\n",
    "                if (window.electCourseTable) {\n",
    "                }\n",
    "            </script>\n",
    "        </tr>\n",
    "        <tr align=\"center\">\n",
    "            <td id=\"timeElapsed\"></td>\n",
    "        </tr>\n",
    "    </table>\n",
    "\n",
    "    <table width=\"100%\" align=\"center\">\n",
    "        <tr style=\"padding-left:20%\">\n",
    "            <td style=\"text-align:center;\">\n",
    "                <div style=\"width:85%;color:red;text-align:left;margin:auto;\">\n",
    "                    中外文明交流与互鉴[0022]选课 失败:因课程代码不在培养方案中认定为计划外选课，且计划外名额已满，请核对培养方案或选择其他课程</br>\n",
    "                </div>\n",
    "            </td>\n",
    "            <script type=\"text/javascript\">\n",
    "                if (window.electCourseTable) {\n",
    "                    window.electCourseTable.lessons({ id: 598192 })\n",
    "                        .update({\n",
    "                            preElect: false,\n",
    "                            defaultElected: false,\n",
    "                            elected: false\n",
    "                        });\n",
    "                }\n",
    "            </script>\n",
    "        </tr>\n",
    "        <tr align=\"center\">\n",
    "            <td id=\"timeElapsed\"></td>\n",
    "        </tr>\n",
    "    </table>\n",
    "\n",
    "\n",
    "    <table align=\"center\" width=\"100%\">\n",
    "        <tr style=\"padding-left:20%\">\n",
    "            <td style=\"text-align:center;\">\n",
    "                <div style=\"width:85%;color:red;text-align:left;margin:auto;\">\n",
    "                    高级语言编程实训2[0057]选课 失败:你已经选过高级语言编程实训2\n",
    "                </div>\n",
    "            </td>\n",
    "            <script type=\"text/javascript\">\n",
    "                if (window.electCourseTable) {\n",
    "                    window.electCourseTable.lessons({ id: 598178 })\n",
    "                        .update({\n",
    "                            preElect: false,\n",
    "                            defaultElected: false,\n",
    "                            elected: false\n",
    "                        });\n",
    "                }\n",
    "            </script>\n",
    "        </tr>\n",
    "        <tr align=\"center\">\n",
    "            <td id=\"timeElapsed\">\n",
    "            </td>\n",
    "        </tr>\n",
    "    </table>\n",
    "</body>\n",
    "```"
   ]
  },
  {
   "cell_type": "markdown",
   "id": "e5ce868b",
   "metadata": {},
   "source": [
    "Key API for Current Course Info: `https://eamis.nankai.edu.cn/eams/stdElectCourse!queryStdCount.action`\n",
    "\n",
    "@param `projectId` : Project ID (Still unknown)\n",
    "\n",
    "@param `semesterId` : Semester ID\n",
    "\n",
    "@_ : Timestamp in milliseconds\n",
    "\n",
    "Now there is an interesting behavior, I noticed a constant internet query to this api every 30 seconds. There is a parameter in this get request that has the current time stamp in UNIX. What's interesting is, even though the timestamp is in milliseconds, each 30 seconds passes the timestamp just adds 1, which is 1 millisecond per 30 second request. This is likely poor web design :-D"
   ]
  },
  {
   "cell_type": "markdown",
   "id": "101ff5d8",
   "metadata": {},
   "source": [
    "With this API, one can select course at a speed of 0.076 seconds per course with synchronous code and 0.046 seconds per course with asynchronous code."
   ]
  },
  {
   "cell_type": "markdown",
   "id": "4a263f94",
   "metadata": {},
   "source": [
    "**Update**: However with recent version of EAMIS API, frequent requests for both course information and election actions would trigger rate limiting. A waiting interval of 0.4 sec is necessary"
   ]
  },
  {
   "cell_type": "code",
   "execution_count": null,
   "id": "6da69357",
   "metadata": {},
   "outputs": [],
   "source": [
    "current_time_stamp = int(time.time() * 1000)  # Current timestamp in milliseconds\n",
    "\n",
    "course_selection_status = client.get(\n",
    "    \"https://eamis.nankai.edu.cn/eams/stdElectCourse!queryStdCourse.action\",\n",
    "    headers={\n",
    "        \"Referer\": course_category_example[\"url\"],\n",
    "        \"X-Requested-With\": \"XMLHttpRequest\",\n",
    "    },\n",
    "    params={\"projectId\": 1, \"semesterId\": 4344, \"_\": current_time_stamp},\n",
    ")\n",
    "print(course_selection_status.content)"
   ]
  },
  {
   "cell_type": "markdown",
   "id": "76f08753",
   "metadata": {},
   "source": [
    "This API gives the current course election status in the format of this:\n",
    "```js\n",
    "window.lessonId2Counts={\n",
    "    '598162': {sc: 0,lc: 0,upsc: 0,uplc: 0,plc: 0,puplc: 0} ...\n",
    "    '598175': {sc: 153,lc:153,upsc:0,uplc:0,plc:0,puplc:0,\n",
    "        expLessonGroups:{\n",
    "            '6440':{indexNo:1,stdCount:150,stdCountLimit:154,proStdCountLimit:154},\n",
    "            '6441':{indexNo:2,stdCount:7,stdCountLimit:0,proStdCountLimit:0}}\n",
    "        }\n",
    "        ...\n",
    "}\n",
    "```\n",
    "\n",
    "This is not important since we don't care about the current course status."
   ]
  }
 ],
 "metadata": {
  "kernelspec": {
   "display_name": "schedulease (3.13.4)",
   "language": "python",
   "name": "python3"
  },
  "language_info": {
   "codemirror_mode": {
    "name": "ipython",
    "version": 3
   },
   "file_extension": ".py",
   "mimetype": "text/x-python",
   "name": "python",
   "nbconvert_exporter": "python",
   "pygments_lexer": "ipython3",
   "version": "3.13.4"
  }
 },
 "nbformat": 4,
 "nbformat_minor": 5
}
